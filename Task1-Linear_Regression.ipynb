{
 "cells": [
  {
   "cell_type": "markdown",
   "id": "0a2d4152-2e83-43b2-8588-37688b39b126",
   "metadata": {},
   "source": [
    "# The Spark Foundation Internship - TASK 1\n",
    "#### Author: Muhammad Hammad Hassan\n",
    "#### Batch April 2022\n",
    "Make predictions as to what percentage a student is likely to get based on their **Study Hours**.\n",
    "I'm Using Simple Linear Regression to solve this problem."
   ]
  },
  {
   "cell_type": "code",
   "execution_count": 19,
   "id": "dab293ee-d162-4810-b82c-1b884524a91b",
   "metadata": {},
   "outputs": [],
   "source": [
    "#CODE BEGINS"
   ]
  },
  {
   "cell_type": "code",
   "execution_count": 20,
   "id": "6bddef30-faa9-4cca-bb8c-04fc6f48a000",
   "metadata": {},
   "outputs": [],
   "source": [
    "#Imoporting Libraries\n",
    "import pandas as pd # for creating dataframes\n",
    "import numpy as np  # for 2D Arrays\n",
    "import matplotlib.pyplot as plt  # for graphical visualizations\n",
    "%matplotlib inline\n",
    "from sklearn.model_selection import train_test_split as tts # for splitting training and testing datasets\n",
    "from sklearn.linear_model import LinearRegression as lr # for Regressiong Model"
   ]
  },
  {
   "cell_type": "code",
   "execution_count": 21,
   "id": "5155d157-8eb3-41c3-9cb8-931707e4e74e",
   "metadata": {},
   "outputs": [],
   "source": [
    "#Getting Task1 dataset\n",
    "Sample = pd.read_csv(\"http://bit.ly/w-data\")"
   ]
  },
  {
   "cell_type": "code",
   "execution_count": 22,
   "id": "2115df58-0b95-4b19-82a4-b12ae09d196b",
   "metadata": {},
   "outputs": [
    {
     "data": {
      "text/html": [
       "<div>\n",
       "<style scoped>\n",
       "    .dataframe tbody tr th:only-of-type {\n",
       "        vertical-align: middle;\n",
       "    }\n",
       "\n",
       "    .dataframe tbody tr th {\n",
       "        vertical-align: top;\n",
       "    }\n",
       "\n",
       "    .dataframe thead th {\n",
       "        text-align: right;\n",
       "    }\n",
       "</style>\n",
       "<table border=\"1\" class=\"dataframe\">\n",
       "  <thead>\n",
       "    <tr style=\"text-align: right;\">\n",
       "      <th></th>\n",
       "      <th>Hours</th>\n",
       "      <th>Scores</th>\n",
       "    </tr>\n",
       "  </thead>\n",
       "  <tbody>\n",
       "    <tr>\n",
       "      <th>0</th>\n",
       "      <td>2.5</td>\n",
       "      <td>21</td>\n",
       "    </tr>\n",
       "    <tr>\n",
       "      <th>1</th>\n",
       "      <td>5.1</td>\n",
       "      <td>47</td>\n",
       "    </tr>\n",
       "    <tr>\n",
       "      <th>2</th>\n",
       "      <td>3.2</td>\n",
       "      <td>27</td>\n",
       "    </tr>\n",
       "    <tr>\n",
       "      <th>3</th>\n",
       "      <td>8.5</td>\n",
       "      <td>75</td>\n",
       "    </tr>\n",
       "    <tr>\n",
       "      <th>4</th>\n",
       "      <td>3.5</td>\n",
       "      <td>30</td>\n",
       "    </tr>\n",
       "    <tr>\n",
       "      <th>5</th>\n",
       "      <td>1.5</td>\n",
       "      <td>20</td>\n",
       "    </tr>\n",
       "    <tr>\n",
       "      <th>6</th>\n",
       "      <td>9.2</td>\n",
       "      <td>88</td>\n",
       "    </tr>\n",
       "  </tbody>\n",
       "</table>\n",
       "</div>"
      ],
      "text/plain": [
       "   Hours  Scores\n",
       "0    2.5      21\n",
       "1    5.1      47\n",
       "2    3.2      27\n",
       "3    8.5      75\n",
       "4    3.5      30\n",
       "5    1.5      20\n",
       "6    9.2      88"
      ]
     },
     "execution_count": 22,
     "metadata": {},
     "output_type": "execute_result"
    }
   ],
   "source": [
    "#displaying imported dataset (only first 7 rows)\n",
    "Sample.head(7)"
   ]
  },
  {
   "cell_type": "code",
   "execution_count": 23,
   "id": "4b3a9617-d7e4-4046-a045-30594991c7d2",
   "metadata": {},
   "outputs": [
    {
     "data": {
      "image/png": "[encoded data removed]",
      "text/plain": [
       "<Figure size 432x288 with 1 Axes>"
      ]
     },
     "metadata": {
      "needs_background": "light"
     },
     "output_type": "display_data"
    }
   ],
   "source": [
    "# Plotting the imported data as a scatter plot\n",
    "Sample.plot(x='Hours', y='Scores', style='+', color='green')  \n",
    "plt.title('Hours vs Percentage')  \n",
    "plt.xlabel('Hours Studied')  \n",
    "plt.ylabel('Percentage Score')  \n",
    "plt.show()"
   ]
  },
  {
   "cell_type": "markdown",
   "id": "11f7d0af-720c-4f7f-9717-7285508b7cd8",
   "metadata": {},
   "source": [
    "**COMMENT:** *The graph clearly shows a linear relationship near to the equation (x=y)*"
   ]
  },
  {
   "cell_type": "markdown",
   "id": "658d95c1-7db2-48fb-924e-079360883924",
   "metadata": {},
   "source": [
    "-----------------------------------------------------------------------\n",
    "**Splitting** the *sample dataset* into **training** and **testing** datasets"
   ]
  },
  {
   "cell_type": "code",
   "execution_count": 31,
   "id": "248cf39d-4e0b-4a79-b124-2ed09a31e680",
   "metadata": {},
   "outputs": [],
   "source": [
    "x = Sample[[\"Hours\"]]\n",
    "y = Sample[[\"Scores\"]]\n",
    "#splitting\n",
    "x_train, x_test, y_train, y_test = tts(x,y,test_size=0.2)"
   ]
  },
  {
   "cell_type": "code",
   "execution_count": 32,
   "id": "8a17addd-bb3e-4cfe-9910-6cfbbcd3df0e",
   "metadata": {},
   "outputs": [
    {
     "name": "stdout",
     "output_type": "stream",
     "text": [
      "length of training dataset(X):  20\n",
      "length of training dataset(Y):  20\n",
      "length of testing dataset(X):  5\n",
      "length of testing dataset(Y):  5\n"
     ]
    }
   ],
   "source": [
    "#checking the lengths of each dataset (previous cell)\n",
    "print(\"length of training dataset(X): \",len(x_train))\n",
    "print(\"length of training dataset(Y): \",len(y_train))\n",
    "print(\"length of testing dataset(X): \",len(x_test))\n",
    "print(\"length of testing dataset(Y): \",len(y_test))"
   ]
  },
  {
   "cell_type": "markdown",
   "id": "0e87b699-5b0d-49bc-9c95-fab46fc109cf",
   "metadata": {},
   "source": [
    "**COMMENT:** *Looks like the dataset is now evenly distributed*\n",
    "\n",
    "---"
   ]
  },
  {
   "cell_type": "markdown",
   "id": "ab3896d3-e468-4d88-bc5f-d4806943b125",
   "metadata": {},
   "source": [
    "Creating a **Model object** and fitting our dataset into it "
   ]
  },
  {
   "cell_type": "code",
   "execution_count": 33,
   "id": "216477b5-d2f4-4a71-8d51-bc5b18a9d166",
   "metadata": {},
   "outputs": [
    {
     "data": {
      "text/plain": [
       "LinearRegression()"
      ]
     },
     "execution_count": 33,
     "metadata": {},
     "output_type": "execute_result"
    }
   ],
   "source": [
    "model = lr()\n",
    "model.fit(x_train , y_train)"
   ]
  },
  {
   "cell_type": "markdown",
   "id": "05dd307a-9043-40be-9a6a-d6d18a66be48",
   "metadata": {},
   "source": [
    "----\n",
    "Visualizing our model"
   ]
  },
  {
   "cell_type": "code",
   "execution_count": 43,
   "id": "bb13b6ce-b272-4070-82dc-fee041c6781a",
   "metadata": {},
   "outputs": [
    {
     "data": {
      "image/png": "[encoded data removed]",
      "text/plain": [
       "<Figure size 432x288 with 1 Axes>"
      ]
     },
     "metadata": {
      "needs_background": "light"
     },
     "output_type": "display_data"
    }
   ],
   "source": [
    "# Plotting the regression line\n",
    "line = model.coef_*x+model.intercept_\n",
    "\n",
    "# Plotting the scatter plot for our original dataset\n",
    "plt.scatter(x, y, marker='+', color='green')\n",
    "plt.plot(x, line, color='red', linewidth='0.2');\n",
    "plt.show()"
   ]
  },
  {
   "cell_type": "markdown",
   "id": "2e7c8c17-0986-4375-bc96-c195c035143d",
   "metadata": {
    "tags": []
   },
   "source": [
    "----\n",
    "Making predictions"
   ]
  },
  {
   "cell_type": "code",
   "execution_count": 44,
   "id": "9d890a95-aa75-4f3b-9871-74a600753751",
   "metadata": {},
   "outputs": [
    {
     "data": {
      "text/plain": [
       "array([[94.15975693]])"
      ]
     },
     "execution_count": 44,
     "metadata": {},
     "output_type": "execute_result"
    }
   ],
   "source": [
    "# predicting the value given in the task 1\n",
    "model.predict([[9.25]])"
   ]
  },
  {
   "cell_type": "code",
   "execution_count": 45,
   "id": "892dd6fa-901b-46d6-8edf-ccdd45e78508",
   "metadata": {},
   "outputs": [
    {
     "data": {
      "text/plain": [
       "array([[26.97565871],\n",
       "       [46.88205818],\n",
       "       [93.66209694],\n",
       "       [36.92885844],\n",
       "       [21.00373886]])"
      ]
     },
     "execution_count": 45,
     "metadata": {},
     "output_type": "execute_result"
    }
   ],
   "source": [
    "#predicting the values present in our test dataset\n",
    "model.predict(x_test)"
   ]
  },
  {
   "cell_type": "markdown",
   "id": "71fbbd2e-0faa-465d-99d8-a908830b6a85",
   "metadata": {},
   "source": [
    "Comparing those values to our original dataset"
   ]
  },
  {
   "cell_type": "code",
   "execution_count": 46,
   "id": "dee85a2c-fca9-46f1-9c94-ef639b634a93",
   "metadata": {},
   "outputs": [
    {
     "data": {
      "text/html": [
       "<div>\n",
       "<style scoped>\n",
       "    .dataframe tbody tr th:only-of-type {\n",
       "        vertical-align: middle;\n",
       "    }\n",
       "\n",
       "    .dataframe tbody tr th {\n",
       "        vertical-align: top;\n",
       "    }\n",
       "\n",
       "    .dataframe thead th {\n",
       "        text-align: right;\n",
       "    }\n",
       "</style>\n",
       "<table border=\"1\" class=\"dataframe\">\n",
       "  <thead>\n",
       "    <tr style=\"text-align: right;\">\n",
       "      <th></th>\n",
       "      <th>Scores</th>\n",
       "    </tr>\n",
       "  </thead>\n",
       "  <tbody>\n",
       "    <tr>\n",
       "      <th>16</th>\n",
       "      <td>30</td>\n",
       "    </tr>\n",
       "    <tr>\n",
       "      <th>12</th>\n",
       "      <td>41</td>\n",
       "    </tr>\n",
       "    <tr>\n",
       "      <th>6</th>\n",
       "      <td>88</td>\n",
       "    </tr>\n",
       "    <tr>\n",
       "      <th>4</th>\n",
       "      <td>30</td>\n",
       "    </tr>\n",
       "    <tr>\n",
       "      <th>17</th>\n",
       "      <td>24</td>\n",
       "    </tr>\n",
       "  </tbody>\n",
       "</table>\n",
       "</div>"
      ],
      "text/plain": [
       "    Scores\n",
       "16      30\n",
       "12      41\n",
       "6       88\n",
       "4       30\n",
       "17      24"
      ]
     },
     "execution_count": 46,
     "metadata": {},
     "output_type": "execute_result"
    }
   ],
   "source": [
    "y_test"
   ]
  },
  {
   "cell_type": "markdown",
   "id": "0b83bb35-6d2c-4a53-a6a4-35d335ba8bef",
   "metadata": {},
   "source": [
    "So how good was our model?"
   ]
  },
  {
   "cell_type": "code",
   "execution_count": 47,
   "id": "f32111fb-2028-49fd-aa95-45af8c43b251",
   "metadata": {},
   "outputs": [
    {
     "data": {
      "text/plain": [
       "0.9513085763345451"
      ]
     },
     "execution_count": 47,
     "metadata": {},
     "output_type": "execute_result"
    }
   ],
   "source": [
    "model.score(x_test,y_test)"
   ]
  },
  {
   "cell_type": "markdown",
   "id": "761b29e2-bee8-4219-9a9c-767f3412a1e1",
   "metadata": {},
   "source": [
    "**COMMENT:** *Looks like our model exhibits 95.13% accuracy*"
   ]
  },
  {
   "cell_type": "markdown",
   "id": "35f769d2-73d5-4acb-8099-7bc09244b728",
   "metadata": {},
   "source": [
    "### TASK 1 Complete!"
   ]
  }
 ],
 "metadata": {
  "kernelspec": {
   "display_name": "Python 3",
   "language": "python",
   "name": "python3"
  },
  "language_info": {
   "codemirror_mode": {
    "name": "ipython",
    "version": 3
   },
   "file_extension": ".py",
   "mimetype": "text/x-python",
   "name": "python",
   "nbconvert_exporter": "python",
   "pygments_lexer": "ipython3",
   "version": "3.8.8"
  }
 },
 "nbformat": 4,
 "nbformat_minor": 5
}
