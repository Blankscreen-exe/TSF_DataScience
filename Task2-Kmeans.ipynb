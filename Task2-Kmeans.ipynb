{
 "cells": [
  {
   "cell_type": "markdown",
   "id": "92e4e6e2-ebd7-4257-ab1b-2ca617d90ef0",
   "metadata": {},
   "source": [
    "# The Spark Foundation Internship - TASK 2\n",
    "#### Author: Muhammad Hammad Hassan\n",
    "#### Batch October 2021\n",
    "Create suitable **clusters** fro the *iris dataset* (present in Scikit learn module).\n",
    "I'm Using K-Means Clusters algorithm to solve this problem."
   ]
  },
  {
   "cell_type": "code",
   "execution_count": 18,
   "id": "9987d64e-82c0-4b99-b305-ee0f8b7350ad",
   "metadata": {},
   "outputs": [],
   "source": [
    "#CODE BEGINS"
   ]
  },
  {
   "cell_type": "code",
   "execution_count": 13,
   "id": "095c11af-44a7-4ee6-9685-e15008bfc1d7",
   "metadata": {},
   "outputs": [],
   "source": [
    "# Importing libraries\n",
    "\n",
    "import numpy as np #for arrays\n",
    "import matplotlib.pyplot as plt # for visualization\n",
    "import pandas as pd # for dataframes\n",
    "from sklearn import datasets # for iris dataset\n",
    "from sklearn.cluster import KMeans # for K-means model"
   ]
  },
  {
   "cell_type": "code",
   "execution_count": 14,
   "id": "6cbf0ae2-9039-4409-a411-f8a35cbb721b",
   "metadata": {},
   "outputs": [],
   "source": [
    "# taking Iris dataset from sklearn module\n",
    "iris = datasets.load_iris()\n",
    "# creating a dataframe\n",
    "df = pd.DataFrame(iris.data, columns = iris.feature_names)"
   ]
  },
  {
   "cell_type": "code",
   "execution_count": 15,
   "id": "b33a072d-a73b-44f2-84fd-e9f83c1484ac",
   "metadata": {},
   "outputs": [
    {
     "data": {
      "text/plain": [
       "['DESCR',\n",
       " 'data',\n",
       " 'feature_names',\n",
       " 'filename',\n",
       " 'frame',\n",
       " 'target',\n",
       " 'target_names']"
      ]
     },
     "execution_count": 15,
     "metadata": {},
     "output_type": "execute_result"
    }
   ],
   "source": [
    "# to see what kind of columns are available ion this dataset\n",
    "dir(iris)"
   ]
  },
  {
   "cell_type": "code",
   "execution_count": 16,
   "id": "9eb46890-f4d9-4547-b086-35e6a85e5593",
   "metadata": {},
   "outputs": [
    {
     "data": {
      "text/html": [
       "<div>\n",
       "<style scoped>\n",
       "    .dataframe tbody tr th:only-of-type {\n",
       "        vertical-align: middle;\n",
       "    }\n",
       "\n",
       "    .dataframe tbody tr th {\n",
       "        vertical-align: top;\n",
       "    }\n",
       "\n",
       "    .dataframe thead th {\n",
       "        text-align: right;\n",
       "    }\n",
       "</style>\n",
       "<table border=\"1\" class=\"dataframe\">\n",
       "  <thead>\n",
       "    <tr style=\"text-align: right;\">\n",
       "      <th></th>\n",
       "      <th>sepal length (cm)</th>\n",
       "      <th>sepal width (cm)</th>\n",
       "      <th>petal length (cm)</th>\n",
       "      <th>petal width (cm)</th>\n",
       "    </tr>\n",
       "  </thead>\n",
       "  <tbody>\n",
       "    <tr>\n",
       "      <th>0</th>\n",
       "      <td>5.1</td>\n",
       "      <td>3.5</td>\n",
       "      <td>1.4</td>\n",
       "      <td>0.2</td>\n",
       "    </tr>\n",
       "    <tr>\n",
       "      <th>1</th>\n",
       "      <td>4.9</td>\n",
       "      <td>3.0</td>\n",
       "      <td>1.4</td>\n",
       "      <td>0.2</td>\n",
       "    </tr>\n",
       "    <tr>\n",
       "      <th>2</th>\n",
       "      <td>4.7</td>\n",
       "      <td>3.2</td>\n",
       "      <td>1.3</td>\n",
       "      <td>0.2</td>\n",
       "    </tr>\n",
       "  </tbody>\n",
       "</table>\n",
       "</div>"
      ],
      "text/plain": [
       "   sepal length (cm)  sepal width (cm)  petal length (cm)  petal width (cm)\n",
       "0                5.1               3.5                1.4               0.2\n",
       "1                4.9               3.0                1.4               0.2\n",
       "2                4.7               3.2                1.3               0.2"
      ]
     },
     "execution_count": 16,
     "metadata": {},
     "output_type": "execute_result"
    }
   ],
   "source": [
    "# displaying the first 3 columns of our dataset\n",
    "df.head(3)"
   ]
  },
  {
   "cell_type": "markdown",
   "id": "9e2d8852-e85f-4950-94cf-ce7c7f711a6e",
   "metadata": {},
   "source": [
    "**COMMENT:** *We only took \"features\" into our dataset. Other attributes are irrelevant for now.*"
   ]
  },
  {
   "cell_type": "code",
   "execution_count": 28,
   "id": "545f7194-9fd3-4934-b0bb-cdc017a1fc32",
   "metadata": {},
   "outputs": [
    {
     "data": {
      "text/plain": [
       "<matplotlib.collections.PathCollection at 0x25775d5d2e0>"
      ]
     },
     "execution_count": 28,
     "metadata": {},
     "output_type": "execute_result"
    },
    {
     "data": {
      "image/png": "[encoded data removed]",
      "text/plain": [
       "<Figure size 432x288 with 1 Axes>"
      ]
     },
     "metadata": {
      "needs_background": "light"
     },
     "output_type": "display_data"
    }
   ],
   "source": [
    "#visualizing the scatter plot for sepal-length and sepal-width.\n",
    "x = df[['sepal length (cm)']]\n",
    "y = df[['sepal width (cm)']]\n",
    "plt.scatter(x, y, s = 20, c = 'blue')"
   ]
  },
  {
   "cell_type": "code",
   "execution_count": 17,
   "id": "502474ea-e738-4985-9768-fc1d9023cb38",
   "metadata": {},
   "outputs": [
    {
     "name": "stdout",
     "output_type": "stream",
     "text": [
      "Three types of Irises are present in this dataset:\n",
      "1 -  setosa\n",
      "2 -  versicolor\n",
      "3 -  virginica\n"
     ]
    }
   ],
   "source": [
    "# in this case, we know what types of and how many clusters we are looking for i.e.\n",
    "count = 1\n",
    "print(\"Three types of Irises are present in this dataset:\")\n",
    "for item in iris.target_names:\n",
    "    print(count, \"- \", item)\n",
    "    count += 1"
   ]
  },
  {
   "cell_type": "markdown",
   "id": "37eaab5e-361c-45f6-bb71-ded25e52446f",
   "metadata": {},
   "source": [
    "**COMMENT:** *Let's see what the Elbow-algo's recommendations are for the number of clusters.*"
   ]
  },
  {
   "cell_type": "code",
   "execution_count": 31,
   "id": "d30b57f3-8fcb-4a28-9112-7e7d4675e7ac",
   "metadata": {},
   "outputs": [],
   "source": [
    "# preparing \"x\" variable which is all 4 paramerters\n",
    "# i.e. sepal length (cm), sepal width (cm), petal length (cm), petal width (cm)\n",
    "x = df.iloc[:, [0, 1, 2, 3]].values"
   ]
  },
  {
   "cell_type": "code",
   "execution_count": 32,
   "id": "18f4d494-6dcd-49ff-97a1-1b42df08e910",
   "metadata": {},
   "outputs": [
    {
     "name": "stderr",
     "output_type": "stream",
     "text": [
      "C:\\Users\\D4Rk_C4K3\\anaconda3\\lib\\site-packages\\sklearn\\cluster\\_kmeans.py:881: UserWarning: KMeans is known to have a memory leak on Windows with MKL, when there are less chunks than available threads. You can avoid it by setting the environment variable OMP_NUM_THREADS=1.\n",
      "  warnings.warn(\n"
     ]
    },
    {
     "data": {
      "image/png": "[encoded data removed]",
      "text/plain": [
       "<Figure size 432x288 with 1 Axes>"
      ]
     },
     "metadata": {
      "needs_background": "light"
     },
     "output_type": "display_data"
    }
   ],
   "source": [
    "# Creating an Within-Cluster Sum of Squares Array\n",
    "wcss = []\n",
    "\n",
    "# Applying the Elbow Method by a for loop.\n",
    "# This will iterate through various instances of no. of clusters and plot each instance on a graph.\n",
    "max_limit = 16\n",
    "def elbow_plot(mx):\n",
    "    for i in range(1,mx):\n",
    "        KM = KMeans(n_clusters = i, init = 'k-means++', max_iter = 300, n_init = 10, random_state = 0)\n",
    "        KM.fit(x)\n",
    "        yield KM.inertia_\n",
    "        \n",
    "for k in elbow_plot(max_limit):\n",
    "    wcss.append(k)\n",
    "\n",
    "# plotting the generated values\n",
    "plt.plot(range(1, max_limit), wcss)\n",
    "plt.title('Elbow Algo')\n",
    "plt.xlabel('Number of clusters')\n",
    "plt.ylabel('WCSS')\n",
    "plt.show()"
   ]
  },
  {
   "cell_type": "markdown",
   "id": "810c4ebb-60a9-42b9-b82b-be8f9d7a829f",
   "metadata": {},
   "source": [
    "**COMMENT:** *it seems that 3 is the optimum no. of clusters*"
   ]
  },
  {
   "cell_type": "code",
   "execution_count": 33,
   "id": "d4b653a8-acc6-4a9e-a35e-43b41d075c2e",
   "metadata": {},
   "outputs": [],
   "source": [
    "# Creating KMeans model with \"no. of clusters = 3\"\n",
    "KM = KMeans(n_clusters = 3, init = 'k-means++', max_iter = 300, n_init = 10, random_state = 0)\n",
    "y_km = KM.fit_predict(x)"
   ]
  },
  {
   "cell_type": "code",
   "execution_count": 40,
   "id": "1a234259-ebca-4f96-9c9c-bd74e6367517",
   "metadata": {},
   "outputs": [
    {
     "data": {
      "text/plain": [
       "<matplotlib.legend.Legend at 0x2577609ab20>"
      ]
     },
     "execution_count": 40,
     "metadata": {},
     "output_type": "execute_result"
    },
    {
     "data": {
      "image/png": "[encoded data removed]",
      "text/plain": [
       "<Figure size 432x288 with 1 Axes>"
      ]
     },
     "metadata": {
      "needs_background": "light"
     },
     "output_type": "display_data"
    }
   ],
   "source": [
    "# Visualising the clusters - On the first two columns\n",
    "x = df.iloc[:, [0, 1, 2, 3]].values\n",
    "plt.scatter(x[y_km == 0, 0], x[y_km == 0, 1], s = 40, c = 'skyblue', label = 'setosa', marker='^')\n",
    "plt.scatter(x[y_km == 1, 0], x[y_km == 1, 1], s = 40, c = 'blue', label = 'versicolour', marker='.')\n",
    "plt.scatter(x[y_km == 2, 0], x[y_km == 2, 1], s = 40, c = 'green', label = 'virginica', marker='+')\n",
    "\n",
    "# Plotting the centroids of the clusters\n",
    "plt.scatter(KM.cluster_centers_[:, 0], KM.cluster_centers_[:,1], s = 40, c = 'red', label = 'Centroids', marker='o')\n",
    "\n",
    "plt.legend()"
   ]
  },
  {
   "cell_type": "markdown",
   "id": "bca7f46e-8e1d-44c6-97c6-712f066988ef",
   "metadata": {},
   "source": [
    "**COMMENT:** *We have succesfully created clusters using K-Means algo*\n",
    "\n",
    "The clusters are very closely placed and are mostly infiltrating each other's space, therefore we may conclude that there are alot of uncertainty and the overall clustering is not definite or good in terms of boundaries."
   ]
  }
 ],
 "metadata": {
  "kernelspec": {
   "display_name": "Python 3",
   "language": "python",
   "name": "python3"
  },
  "language_info": {
   "codemirror_mode": {
    "name": "ipython",
    "version": 3
   },
   "file_extension": ".py",
   "mimetype": "text/x-python",
   "name": "python",
   "nbconvert_exporter": "python",
   "pygments_lexer": "ipython3",
   "version": "3.8.8"
  }
 },
 "nbformat": 4,
 "nbformat_minor": 5
}
